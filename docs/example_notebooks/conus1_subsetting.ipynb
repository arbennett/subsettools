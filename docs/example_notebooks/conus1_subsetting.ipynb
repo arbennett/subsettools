{
 "cells": [
  {
   "cell_type": "markdown",
   "id": "4198e5ab",
   "metadata": {},
   "source": [
    "# **Subset CONUS and run ParFlow**\n",
    "### This notebook has two principal sections: \n",
    "1. Subset all static inputs and climate forcings from a CONUS run stored in Hydrodata \n",
    "2. Load and alter a reference run to do a single or ensemble run of ParFlow-CLM"
   ]
  },
  {
   "cell_type": "markdown",
   "id": "1f0f4110",
   "metadata": {},
   "source": [
    "### Import the required libraries for step one (subsetting)"
   ]
  },
  {
   "cell_type": "code",
   "execution_count": 1,
   "id": "0c960423",
   "metadata": {
    "tags": []
   },
   "outputs": [],
   "source": [
    "#import needed libraries to subset\n",
    "from datetime import datetime, timedelta\n",
    "import matplotlib.pyplot as plt\n",
    "import numpy as np\n",
    "import os\n",
    "from parflow import Run\n",
    "from parflow.tools.io import read_pfb, write_pfb, read_clm, read_pfb_sequence\n",
    "from parflow.tools.fs import cp, mkdir\n",
    "from parflow.tools.settings import set_working_directory\n",
    "from subsettools.subsettools import *\n",
    "from subsettools.datasets import *\n",
    "import pathlib\n",
    "import shutil\n",
    "import xarray as xr\n",
    "import hydrodata.data_catalog.data_access\n",
    "from pathlib import Path"
   ]
  },
  {
   "cell_type": "markdown",
   "id": "dd0f9348",
   "metadata": {
    "tags": []
   },
   "source": [
    "### 1. Define variables to access datasets to subset in Hydrodata and define write paths"
   ]
  },
  {
   "cell_type": "markdown",
   "id": "ed93b3b2",
   "metadata": {},
   "source": [
    "#### We will be testing with the Upper Verde watershed for this example\n",
    "- HUC: 15060202\n",
    "- Size: 6496 km^2 (ni = 112, nj = 90)   "
   ]
  },
  {
   "cell_type": "markdown",
   "id": "808c9620",
   "metadata": {},
   "source": [
    "#### Set your variables to specify which static and climate forcing data you would like to subset in Hydrodata"
   ]
  },
  {
   "cell_type": "code",
   "execution_count": 2,
   "id": "dfbdea78",
   "metadata": {
    "tags": []
   },
   "outputs": [],
   "source": [
    "home = os.path.expanduser(\"~\")\n",
    "runname = \"datacatalog_test1\"\n",
    "#provide a way to create a subset from the conus domain (huc, lat/lon bbox currently supported)\n",
    "subset_target = \"15060202\"\n",
    "\n",
    "#provide information about the datasets you want to access for run inputs using the data catalog\n",
    "start = \"2005-10-01\" \n",
    "end = \"2006-09-30\"\n",
    "grid = \"conus1\"  \n",
    "run_ds = \"conus1_baseline_mod\"\n",
    "var_ds = \"conus1_domain\"\n",
    "forcing_ds = \"NLDAS2\"\n",
    "\n",
    "#Set the directory paths where you want to write your subset files\n",
    "static_write_dir = f\"{home}/subsettools_tutorial/inputs/{runname}_{grid}_{end[:4]}WY/static/\"\n",
    "mkdir(static_write_dir) \n",
    "forcing_dir = f\"{home}/subsettools_tutorial/inputs/{runname}_{grid}_{end[:4]}WY/forcing/\"\n",
    "mkdir(forcing_dir)\n",
    "\n",
    "#setting up parflow run paths and run name\n",
    "pf_out_dir = f\"{home}/subsettools_tutorial/outputs/{runname}_{grid}_{end[:4]}WY/\"\n",
    "mkdir(pf_out_dir) \n",
    "\n",
    "#set PARFLOW_DIR path to the preferred version of ParFlow\n",
    "os.environ[\"PARFLOW_DIR\"] = \"/home/SHARED/software/parflow/3.10.0\"\n",
    "\n",
    "reference_run = get_ref_yaml_path(grid, \"transient\", \"solid\")\n",
    "target_runscript = pf_out_dir + runname + '.yaml'"
   ]
  },
  {
   "cell_type": "markdown",
   "id": "aa7ab970",
   "metadata": {},
   "source": [
    "### 2. Get the desired ParFlow x/y bbox from user provided geospatial information "
   ]
  },
  {
   "cell_type": "code",
   "execution_count": 3,
   "id": "9d50bbca",
   "metadata": {
    "tags": []
   },
   "outputs": [
    {
     "name": "stdout",
     "output_type": "stream",
     "text": [
      "bounding box: [375, 239, 487, 329]\n",
      "nj: 90\n",
      "ni: 112\n"
     ]
    },
    {
     "name": "stderr",
     "output_type": "stream",
     "text": [
      "/home/ga6/.conda/envs/subsettools/lib/python3.9/site-packages/xarray/backends/plugins.py:80: RuntimeWarning: Engine 'parflow' loading failed:\n",
      "No module named 'dask'\n",
      "  warnings.warn(f\"Engine {name!r} loading failed:\\n{ex}\", RuntimeWarning)\n"
     ]
    }
   ],
   "source": [
    "ij_bounds = get_conus_ij(domain = subset_target, grid = grid) #[imin, jmin, imax, jmax]\n",
    "print(f'bounding box: {ij_bounds}')\n",
    "\n",
    "nj = ij_bounds[3]-ij_bounds[1]\n",
    "ni = ij_bounds[2]-ij_bounds[0]\n",
    "print(f'nj: {nj}')\n",
    "print(f'ni: {ni}')"
   ]
  },
  {
   "cell_type": "markdown",
   "id": "c0362322",
   "metadata": {},
   "source": [
    "### 3. Make the mask and solid file\n",
    "You only do this if you provided a huc or a shapefile where we can extract a mask from the conus tif. Otherwise, the reference run is rewritten to provide a box domain."
   ]
  },
  {
   "cell_type": "code",
   "execution_count": 4,
   "id": "9c3aec38",
   "metadata": {},
   "outputs": [
    {
     "name": "stdout",
     "output_type": "stream",
     "text": [
      "Provided HUC ID\n",
      "grid is conus1\n",
      "Wrote mask.pfb\n",
      "Wrote solidfile.pfsol and mask_vtk.vtk with total z of 500 meters\n"
     ]
    }
   ],
   "source": [
    "create_mask_solid(huc_id = subset_target, grid = grid, write_dir = static_write_dir)"
   ]
  },
  {
   "cell_type": "markdown",
   "id": "1567e0ff",
   "metadata": {},
   "source": [
    "### 4. Subset the static ParFlow inputs\n",
    "Two options to subset static inputs. \n",
    "1. subset_static(): This function when provided with a variable dataset hosted on hydrodata will subset all static inputs required to do a baseline run from the default argument var_list without the user specify specific files. Pressure is the steady state pressure. If a user would like the override this, they may pass in their own value for var_list and their specifed variables in the target dataset will be subset. \n",
    "\n",
    "3. subset_press_init(): This function will write the subset pressure of the last hour in the last day before your start date. If no such pressure file exists in the hydrodata run dataset specifed, no file will be written. The function assumes UTC of zero as the default, but allows the user to override. "
   ]
  },
  {
   "cell_type": "code",
   "execution_count": 5,
   "id": "ec16ed87",
   "metadata": {},
   "outputs": [
    {
     "name": "stdout",
     "output_type": "stream",
     "text": [
      "Wrote slope_x.pfb in specified directory.\n",
      "Wrote slope_y.pfb in specified directory.\n",
      "Wrote pf_indicator.pfb in specified directory.\n",
      "mannings not found in dataset conus1_domain\n",
      "depth_to_bedrock not found in dataset conus1_domain\n",
      "Wrote pme.pfb in specified directory.\n"
     ]
    }
   ],
   "source": [
    "subset_static(ij_bounds, dataset = var_ds, write_dir = static_write_dir)"
   ]
  },
  {
   "cell_type": "code",
   "execution_count": 6,
   "id": "33d3e618",
   "metadata": {},
   "outputs": [
    {
     "name": "stdout",
     "output_type": "stream",
     "text": [
      "Wrote conus1_baseline_mod_2005.09.30:23.00.00_UTC0_press.pfb in specified directory.\n"
     ]
    }
   ],
   "source": [
    "subset_press_init(ij_bounds, dataset = run_ds, date = start, write_dir = static_write_dir, time_zone = 'UTC')\n",
    "#subset_press_init(ij_bounds, dataset = run_ds, date = start, write_dir = static_write_dir, time_zone = 'America/New_York')\n",
    "#subset_press_init(ij_bounds, dataset = run_ds, date = start, write_dir = static_write_dir, time_zone = 'US/Central')"
   ]
  },
  {
   "cell_type": "markdown",
   "id": "b32a2d65",
   "metadata": {},
   "source": [
    "### 5. Configure CLM drivers\n",
    "This function will get the clm drivers that are associated with your run dataset (same as data set as where you will get your initial pressure file). Vegm, vegp and drv_clmin will be written into your specified static input directory. "
   ]
  },
  {
   "cell_type": "code",
   "execution_count": 7,
   "id": "6f4133f3",
   "metadata": {},
   "outputs": [
    {
     "name": "stdout",
     "output_type": "stream",
     "text": [
      "vegp\n",
      "/hydrodata/PFCLM/CONUS1_baseline/inputs/drv_vegp.dat\n",
      "copied vegp\n",
      "vegm\n",
      "subsetting vegm (this takes awhile)\n",
      "subset vegm\n",
      "drv_clm\n",
      "/hydrodata/PFCLM/CONUS1_baseline/run_scripts/CONUS_WY2003_2007_Cheyenne/drv_clmin.start.dat\n",
      "edited drv_clmin\n"
     ]
    }
   ],
   "source": [
    "config_clm(ij_bounds, start = start, end = end, dataset = run_ds, write_dir = static_write_dir)"
   ]
  },
  {
   "cell_type": "markdown",
   "id": "e39f84b0",
   "metadata": {},
   "source": [
    "### 6. Subset the climate forcing"
   ]
  },
  {
   "cell_type": "markdown",
   "id": "ceebf7c7",
   "metadata": {},
   "source": [
    "This function will write all variables needed to run CLM for your specified forcing dataset, on your specified grid, subset to the i/j boundary that was returned previously within the specified start and end date. "
   ]
  },
  {
   "cell_type": "code",
   "execution_count": 8,
   "id": "f34c4be7",
   "metadata": {},
   "outputs": [
    {
     "name": "stdout",
     "output_type": "stream",
     "text": [
      "Reading precipitation pfb sequence\n",
      "Done reading precipitation pfb sequence, starting to write to folder\n",
      "finished writing precipitation to folder\n",
      "Reading downward_shortwave pfb sequence\n",
      "Done reading downward_shortwave pfb sequence, starting to write to folder\n",
      "finished writing downward_shortwave to folder\n",
      "Reading downward_longwave pfb sequence\n",
      "Done reading downward_longwave pfb sequence, starting to write to folder\n",
      "finished writing downward_longwave to folder\n",
      "Reading specific_humidity pfb sequence\n",
      "Done reading specific_humidity pfb sequence, starting to write to folder\n",
      "finished writing specific_humidity to folder\n",
      "Reading air_temp pfb sequence\n",
      "Done reading air_temp pfb sequence, starting to write to folder\n",
      "finished writing air_temp to folder\n",
      "Reading atmospheric_pressure pfb sequence\n",
      "Done reading atmospheric_pressure pfb sequence, starting to write to folder\n",
      "finished writing atmospheric_pressure to folder\n",
      "Reading east_windspeed pfb sequence\n",
      "Done reading east_windspeed pfb sequence, starting to write to folder\n",
      "finished writing east_windspeed to folder\n",
      "Reading north_windspeed pfb sequence\n",
      "Done reading north_windspeed pfb sequence, starting to write to folder\n",
      "finished writing north_windspeed to folder\n"
     ]
    }
   ],
   "source": [
    "subset_forcing(ij_bounds, grid = grid, start = start, end = end, dataset = forcing_ds, write_dir = forcing_dir)"
   ]
  },
  {
   "cell_type": "markdown",
   "id": "b1cde0f5",
   "metadata": {},
   "source": [
    "### 7. Sanity check static and climate forcing by plotting (not an exhaustive check for accuracy)"
   ]
  },
  {
   "cell_type": "markdown",
   "id": "edf8ca8d",
   "metadata": {},
   "source": [
    "#### Check static inputs"
   ]
  },
  {
   "cell_type": "code",
   "execution_count": 9,
   "id": "94ce138b",
   "metadata": {
    "tags": []
   },
   "outputs": [
    {
     "name": "stdout",
     "output_type": "stream",
     "text": [
      "(5, 90, 112)\n"
     ]
    },
    {
     "data": {
      "text/plain": [
       "<matplotlib.colorbar.Colorbar at 0x1519feee4250>"
      ]
     },
     "execution_count": 9,
     "metadata": {},
     "output_type": "execute_result"
    },
    {
     "data": {
      "image/png": "[encoded data removed]",
      "text/plain": [
       "<Figure size 640x480 with 2 Axes>"
      ]
     },
     "metadata": {},
     "output_type": "display_data"
    }
   ],
   "source": [
    "os.chdir(static_write_dir) \n",
    "test = read_pfb('pf_indicator.pfb')\n",
    "print(test.shape)\n",
    "\n",
    "cmap1='Reds'\n",
    "sub_flip = np.zeros((1,nj,ni))\n",
    "sub_flip[0,:,:] = test[0,:,:]\n",
    "sub_flip = np.flip(sub_flip,1)\n",
    "\n",
    "plt.imshow(sub_flip[0,:,:], cmap=cmap1)\n",
    "plt.colorbar()"
   ]
  },
  {
   "cell_type": "code",
   "execution_count": 10,
   "id": "e5ce3f4a",
   "metadata": {},
   "outputs": [
    {
     "data": {
      "text/plain": [
       "<matplotlib.colorbar.Colorbar at 0x1519fcc89f70>"
      ]
     },
     "execution_count": 10,
     "metadata": {},
     "output_type": "execute_result"
    },
    {
     "data": {
      "image/png": "[encoded data removed]",
      "text/plain": [
       "<Figure size 640x480 with 2 Axes>"
      ]
     },
     "metadata": {},
     "output_type": "display_data"
    }
   ],
   "source": [
    "#checking vegm\n",
    "os.chdir(static_write_dir) \n",
    "vegm = read_clm('/home/at8471/subset_pfensemble_wf/create_ensembles/inputs/datacatalog_test1_conus1_2006WY/static/drv_vegm.dat', type = 'vegm')\n",
    "\n",
    "land_cover_vegm = np.zeros((vegm.shape[0], vegm.shape[1]))\n",
    "mult = 0\n",
    "\n",
    "for i in range(5,23):\n",
    "\n",
    "    mult = mult + 1\n",
    "    land_cover_vegm = land_cover_vegm + vegm[:,:,i] * mult\n",
    "\n",
    "plt.imshow(land_cover_vegm, origin='lower', interpolation=None)\n",
    "\n",
    "plt.colorbar()"
   ]
  },
  {
   "cell_type": "markdown",
   "id": "e8ed654b",
   "metadata": {},
   "source": [
    "#### Check climate forcing"
   ]
  },
  {
   "cell_type": "code",
   "execution_count": 11,
   "id": "9b64e0b6",
   "metadata": {},
   "outputs": [
    {
     "data": {
      "text/plain": [
       "<matplotlib.colorbar.Colorbar at 0x151a0567ee80>"
      ]
     },
     "execution_count": 11,
     "metadata": {},
     "output_type": "execute_result"
    },
    {
     "data": {
      "image/png": "[encoded data removed]",
      "text/plain": [
       "<Figure size 640x480 with 2 Axes>"
      ]
     },
     "metadata": {},
     "output_type": "display_data"
    }
   ],
   "source": [
    "os.chdir(forcing_dir) \n",
    "test = read_pfb('NLDAS.APCP.003937_to_003960.pfb')\n",
    "test = test.max(axis = 0) #so we can check a var like precip\n",
    "\n",
    "sub_flip = np.zeros((1,nj,ni))\n",
    "sub_flip[0,:,:] = test[:,:]\n",
    "sub_flip = np.flip(sub_flip,1)\n",
    "plt.imshow(sub_flip[0,:,:], cmap=cmap1)\n",
    "plt.colorbar()"
   ]
  },
  {
   "cell_type": "markdown",
   "id": "99b69c80",
   "metadata": {},
   "source": [
    "### 8. Set up a baseline run from a reference yaml\n",
    "This function will return the correct template yaml file to do your run based on the grid, if you're doing spin-up and if you're using a solid file with the necessary keys changed to run your subset with selected climate forcing at baseline for one year"
   ]
  },
  {
   "cell_type": "code",
   "execution_count": 12,
   "id": "ea1f0e8e",
   "metadata": {},
   "outputs": [
    {
     "name": "stdout",
     "output_type": "stream",
     "text": [
      "New runname: datacatalog_test1 provided, a new yaml file will be created\n",
      "ComputationalGrid.NY set to 90 and NX to 112\n",
      "Old path to climate forcing was  and has been changed to /home/ga6/subsettools_tutorial/inputs/datacatalog_test1_conus1_2006WY/forcing/ in runscript.\n",
      "GeomInput.domaininput.InputType detected as SolidFile, no additional keys to change for subset\n",
      "Updated runscript written to /home/ga6/subsettools_tutorial/outputs/datacatalog_test1_conus1_2006WY/ as detected extension\n"
     ]
    }
   ],
   "source": [
    "edit_runscript_for_subset(ij_bounds, runscript_path = reference_run, write_dir = pf_out_dir, runname = runname, forcing_dir = forcing_dir)"
   ]
  },
  {
   "cell_type": "markdown",
   "id": "9f742051",
   "metadata": {},
   "source": [
    "### 9. Copy over your static files to your run directory\n",
    "As a seperate function as you may only need to do this once, or you may want to copy subset static files to different run directories "
   ]
  },
  {
   "cell_type": "code",
   "execution_count": 13,
   "id": "71ae6dd2",
   "metadata": {},
   "outputs": [],
   "source": [
    "copy_static_files(static_input_dir = static_write_dir, pf_dir = pf_out_dir)"
   ]
  },
  {
   "cell_type": "markdown",
   "id": "2c1fe950",
   "metadata": {},
   "source": [
    "### 10. Change the file names in your runscript if desired\n",
    "If you have changed the name of a static input file either from those used in the reference yamls provided on X GitHub repo, or have changed the name of an individual file for an ensemble or other experiment, you can change it with this function by providing the target runscript (yaml or pfidb) and the new file name(s) as an arguments. Only those arguments with a specified file name will be updated"
   ]
  },
  {
   "cell_type": "code",
   "execution_count": 14,
   "id": "e0288e27",
   "metadata": {},
   "outputs": [
    {
     "name": "stdout",
     "output_type": "stream",
     "text": [
      "No write directory provided, updated or new yaml file will be written to the runscript path\n",
      "Initial pressure filename changed to conus1_baseline_mod_2005.09.30:23.00.00_UTC0_press.pfb\n",
      "Updated runscript written to /home/ga6/subsettools_tutorial/outputs/datacatalog_test1_conus1_2006WY as detected file extension\n"
     ]
    }
   ],
   "source": [
    "change_filename_values(runscript_path = target_runscript, ip = \"conus1_baseline_mod_2005.09.30:23.00.00_UTC0_press.pfb\")"
   ]
  },
  {
   "cell_type": "markdown",
   "id": "b14cf608",
   "metadata": {},
   "source": [
    "### 11. Change processor topolgoy if desired and then distribute your inputs and forcings to match the new topology"
   ]
  },
  {
   "cell_type": "code",
   "execution_count": 15,
   "id": "24c155b6",
   "metadata": {},
   "outputs": [
    {
     "name": "stdout",
     "output_type": "stream",
     "text": [
      "Distributing your climate forcing\n",
      "Distributed conus1_baseline_mod_2005.09.30:23.00.00_UTC0_press.pfb with NZ 5\n",
      "Distributed mask.pfb with NZ 1\n",
      "Distributed pf_indicator.pfb with NZ 5\n",
      "Distributed pme.pfb with NZ 5\n",
      "Distributed slope_x.pfb with NZ 1\n",
      "Distributed slope_y.pfb with NZ 1\n",
      "Distributed datacatalog_test1.out.perm_x.pfb with NZ 5\n",
      "Distributed datacatalog_test1.out.perm_y.pfb with NZ 5\n",
      "Distributed datacatalog_test1.out.perm_z.pfb with NZ 5\n",
      "Distributed datacatalog_test1.out.porosity.pfb with NZ 5\n",
      "Distributed datacatalog_test1.out.specific_storage.pfb with NZ 5\n",
      "Distributed datacatalog_test1.out.alpha.pfb with NZ 5\n",
      "Distributed datacatalog_test1.out.n.pfb with NZ 5\n",
      "Distributed datacatalog_test1.out.sres.pfb with NZ 5\n",
      "Distributed datacatalog_test1.out.ssat.pfb with NZ 5\n",
      "Distributed datacatalog_test1.out.press.00000.pfb with NZ 5\n",
      "Distributed datacatalog_test1.out.satur.00000.pfb with NZ 5\n",
      "Distributed datacatalog_test1.out.mask.pfb with NZ 5\n",
      "Distributed datacatalog_test1.out.press.00001.pfb with NZ 5\n",
      "Distributed datacatalog_test1.out.satur.00001.pfb with NZ 5\n",
      "Distributed datacatalog_test1.out.clm_output.00001.C.pfb with NZ 17\n",
      "Distributed datacatalog_test1.out.press.00002.pfb with NZ 5\n",
      "Distributed datacatalog_test1.out.satur.00002.pfb with NZ 5\n",
      "Distributed datacatalog_test1.out.clm_output.00002.C.pfb with NZ 17\n",
      "Distributed datacatalog_test1.out.press.00003.pfb with NZ 5\n",
      "Distributed datacatalog_test1.out.satur.00003.pfb with NZ 5\n",
      "Distributed datacatalog_test1.out.clm_output.00003.C.pfb with NZ 17\n",
      "Distributed datacatalog_test1.out.press.00004.pfb with NZ 5\n",
      "Distributed datacatalog_test1.out.satur.00004.pfb with NZ 5\n",
      "Distributed datacatalog_test1.out.clm_output.00004.C.pfb with NZ 17\n",
      "Distributed datacatalog_test1.out.press.00005.pfb with NZ 5\n",
      "Distributed datacatalog_test1.out.satur.00005.pfb with NZ 5\n",
      "Distributed datacatalog_test1.out.clm_output.00005.C.pfb with NZ 17\n",
      "Distributed datacatalog_test1.out.press.00006.pfb with NZ 5\n",
      "Distributed datacatalog_test1.out.satur.00006.pfb with NZ 5\n",
      "Distributed datacatalog_test1.out.clm_output.00006.C.pfb with NZ 17\n",
      "Distributed datacatalog_test1.out.press.00007.pfb with NZ 5\n",
      "Distributed datacatalog_test1.out.satur.00007.pfb with NZ 5\n",
      "Distributed datacatalog_test1.out.clm_output.00007.C.pfb with NZ 17\n",
      "Distributed datacatalog_test1.out.press.00008.pfb with NZ 5\n",
      "Distributed datacatalog_test1.out.satur.00008.pfb with NZ 5\n",
      "Distributed datacatalog_test1.out.clm_output.00008.C.pfb with NZ 17\n",
      "Distributed datacatalog_test1.out.press.00009.pfb with NZ 5\n",
      "Distributed datacatalog_test1.out.satur.00009.pfb with NZ 5\n",
      "Distributed datacatalog_test1.out.clm_output.00009.C.pfb with NZ 17\n",
      "Distributed datacatalog_test1.out.press.00010.pfb with NZ 5\n",
      "Distributed datacatalog_test1.out.satur.00010.pfb with NZ 5\n",
      "Distributed datacatalog_test1.out.clm_output.00010.C.pfb with NZ 17\n"
     ]
    }
   ],
   "source": [
    "dist_run(P=4, Q=4, runscript_path = target_runscript, pf_run_dir = pf_out_dir, dist_clim_forcing = True)"
   ]
  },
  {
   "cell_type": "markdown",
   "id": "9eb7c01e",
   "metadata": {},
   "source": [
    "### 12. Do a baseline run.\n",
    "Load in the yaml run file you've created which is in the same folder as your static forcings and points to your desired Climate forcings. This assumes you do not want to make any changes from the parent model you used (Ex. conus1 baseline) and will run your subset at baseline conditions. Outputs should be almost identical to the parent model at your subset location for the same time period if you make no additional changes."
   ]
  },
  {
   "cell_type": "code",
   "execution_count": 16,
   "id": "abbc70fa",
   "metadata": {
    "tags": []
   },
   "outputs": [
    {
     "name": "stdout",
     "output_type": "stream",
     "text": [
      "/home/ga6/subsettools_tutorial/outputs/datacatalog_test1_conus1_2006WY/\n",
      "Loaded run with runname: datacatalog_test1\n",
      "\n",
      "# ==============================================================================\n",
      "# ParFlow directory\n",
      "#  - /home/SHARED/software/parflow/3.10.0\n",
      "# ParFlow version\n",
      "#  - 3.10.0\n",
      "# Working directory\n",
      "#  - /home/ga6/subsettools_tutorial/outputs/datacatalog_test1_conus1_2006WY\n",
      "# ParFlow database\n",
      "#  - datacatalog_test1.pfidb\n",
      "# ==============================================================================\n",
      "\n",
      "\n",
      "# ==============================================================================\n",
      "# ParFlow ran successfully 💦 💦 💦 \n",
      "# ==============================================================================\n",
      "\n"
     ]
    }
   ],
   "source": [
    "set_working_directory(f'{pf_out_dir}')\n",
    "print(pf_out_dir)\n",
    "\n",
    "#load the specified run script\n",
    "run = Run.from_definition(target_runscript)\n",
    "print(f\"Loaded run with runname: {run.get_name()}\")\n",
    "\n",
    "# The following line is setting the run just for 10 hours for testing purposes\n",
    "run.TimingInfo.StopTime = 10\n",
    "\n",
    "#Need to set --ntasks='num_procs' (16 for 4x4) when starting notebook, request 1 core\n",
    "run.run(working_directory=pf_out_dir)"
   ]
  },
  {
   "cell_type": "markdown",
   "id": "fe23a9ae",
   "metadata": {},
   "source": [
    "### 13. Restart a parflow run\n",
    "If you need to restart a run to complete a spinup, transient run, etc then you can run the following to make the necessary updates to your runscript and then overwrite it in place"
   ]
  },
  {
   "cell_type": "code",
   "execution_count": 17,
   "id": "7209d80e",
   "metadata": {},
   "outputs": [],
   "source": [
    "#restart_run(target_runscript)"
   ]
  }
 ],
 "metadata": {
  "kernelspec": {
   "display_name": "Python 3 (ipykernel)",
   "language": "python",
   "name": "python3"
  },
  "language_info": {
   "codemirror_mode": {
    "name": "ipython",
    "version": 3
   },
   "file_extension": ".py",
   "mimetype": "text/x-python",
   "name": "python",
   "nbconvert_exporter": "python",
   "pygments_lexer": "ipython3",
   "version": "3.9.16"
  }
 },
 "nbformat": 4,
 "nbformat_minor": 5
}
